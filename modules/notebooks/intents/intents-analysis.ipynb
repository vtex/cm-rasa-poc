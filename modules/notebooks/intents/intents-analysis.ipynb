{
 "cells": [
  {
   "cell_type": "markdown",
   "metadata": {
    "colab_type": "text",
    "id": "kO9wt2g3okLS"
   },
   "source": [
    "# Análise das Intents\n",
    "\n",
    "Este jupyter-notebook vai auxiliar na análise de detecção de intenções de seu chatbot."
   ]
  },
  {
   "cell_type": "markdown",
   "metadata": {},
   "source": [
    "### Configurando e Imports"
   ]
  },
  {
   "cell_type": "code",
   "execution_count": 2,
   "metadata": {
    "scrolled": false
   },
   "outputs": [
    {
     "name": "stdout",
     "output_type": "stream",
     "text": [
      "Rasa: 2.5.0\n"
     ]
    }
   ],
   "source": [
    "from IPython.display import IFrame\n",
    "\n",
    "import rasa\n",
    "print(\"Rasa: {}\".format(rasa.__version__))"
   ]
  },
  {
   "cell_type": "markdown",
   "metadata": {
    "colab_type": "text",
    "id": "1xeXgpdwzOAl"
   },
   "source": [
    "### Treinando o modelo do Rasa NLU\n",
    "\n",
    "* Para avaliar o bot o primeiro passo é treiner o seu chatbot. Mas não é necessário treinar a parte de conversão completa (rasa_core) apenas a parte de interpretação de mensagens (rasa_nlu).\n",
    "\n",
    "* O comando `train-nlu` do Makefile executa o treinamento apenas do `rasa_nlu`"
   ]
  },
  {
   "cell_type": "code",
   "execution_count": 3,
   "metadata": {
    "scrolled": false
   },
   "outputs": [
    {
     "name": "stdout",
     "output_type": "stream",
     "text": [
      "\u001b(0lqqqqqqqqqqqqqqqqqqqqqqqqqqqqqqqqqqqqqqqqqqqqqqqqqqqqqqqqqqqqqqqqqqqqqqqqqqqqqqqqk\u001b(B\n",
      "\u001b(0x\u001b(B Rasa Open Source reports anonymous usage telemetry to help improve the product \u001b(0x\u001b(B\n",
      "\u001b(0x\u001b(B for all its users.                                                             \u001b(0x\u001b(B\n",
      "\u001b(0x\u001b(B                                                                                \u001b(0x\u001b(B\n",
      "\u001b(0x\u001b(B If you'd like to opt-out, you can use `rasa telemetry disable`.                \u001b(0x\u001b(B\n",
      "\u001b(0x\u001b(B To learn more, check out https://rasa.com/docs/rasa/telemetry/telemetry.       \u001b(0x\u001b(B\n",
      "\u001b(0mqqqqqqqqqqqqqqqqqqqqqqqqqqqqqqqqqqqqqqqqqqqqqqqqqqqqqqqqqqqqqqqqqqqqqqqqqqqqqqqqj\u001b(B\n",
      "\u001b[94mTraining NLU model...\u001b[0m\n",
      "\u001b[93m/usr/local/lib/python3.7/site-packages/rasa/utils/train_utils.py:537: UserWarning: model_confidence is set to `softmax`. It is recommended to try using `model_confidence=linear_norm` to make it easier to tune fallback thresholds.\n",
      "  category=UserWarning,\n",
      "\u001b[0m2021-04-29 12:01:47 \u001b[1;30mINFO    \u001b[0m \u001b[34mrasa.shared.nlu.training_data.training_data\u001b[0m  - Training data stats:\n",
      "2021-04-29 12:01:47 \u001b[1;30mINFO    \u001b[0m \u001b[34mrasa.shared.nlu.training_data.training_data\u001b[0m  - Number of intent examples: 322 (27 distinct intents)\n",
      "\n",
      "2021-04-29 12:01:47 \u001b[1;30mINFO    \u001b[0m \u001b[34mrasa.shared.nlu.training_data.training_data\u001b[0m  -   Found intents: 'feedback', 'start_shopping', 'out_of_scope', 'elogios', 'product_list', 'onde_voce_mora', 'signo', 'tudo_bem', 'despedir', 'relacionamento', 'objetivo', 'cor', 'delivery_question', 'triste', 'historia', 'diga_mais', 'cancelar', 'cumprimentar', 'afirmar', 'license', 'time', 'piada', 'o_que_sei_falar', 'musica', 'comida', 'negar', 'genero'\n",
      "2021-04-29 12:01:47 \u001b[1;30mINFO    \u001b[0m \u001b[34mrasa.shared.nlu.training_data.training_data\u001b[0m  - Number of response examples: 0 (0 distinct responses)\n",
      "2021-04-29 12:01:47 \u001b[1;30mINFO    \u001b[0m \u001b[34mrasa.shared.nlu.training_data.training_data\u001b[0m  - Number of entity examples: 88 (12 distinct entities)\n",
      "2021-04-29 12:01:47 \u001b[1;30mINFO    \u001b[0m \u001b[34mrasa.shared.nlu.training_data.training_data\u001b[0m  -   Found entity types: 'triste', 'historia', 'license', 'produto', 'signo', 'piada', 'musica', 'comida', 'relationship', 'live', 'cor', 'genero'\n",
      "2021-04-29 12:01:47 \u001b[1;30mINFO    \u001b[0m \u001b[34mrasa.nlu.model\u001b[0m  - Starting to train component WhitespaceTokenizer\n",
      "2021-04-29 12:01:47 \u001b[1;30mINFO    \u001b[0m \u001b[34mrasa.nlu.model\u001b[0m  - Finished training component.\n",
      "2021-04-29 12:01:47 \u001b[1;30mINFO    \u001b[0m \u001b[34mrasa.nlu.model\u001b[0m  - Starting to train component RegexFeaturizer\n",
      "2021-04-29 12:01:47 \u001b[1;30mINFO    \u001b[0m \u001b[34mrasa.nlu.model\u001b[0m  - Finished training component.\n",
      "2021-04-29 12:01:47 \u001b[1;30mINFO    \u001b[0m \u001b[34mrasa.nlu.model\u001b[0m  - Starting to train component LexicalSyntacticFeaturizer\n",
      "2021-04-29 12:01:48 \u001b[1;30mINFO    \u001b[0m \u001b[34mrasa.nlu.model\u001b[0m  - Finished training component.\n",
      "2021-04-29 12:01:48 \u001b[1;30mINFO    \u001b[0m \u001b[34mrasa.nlu.model\u001b[0m  - Starting to train component CountVectorsFeaturizer\n",
      "2021-04-29 12:01:48 \u001b[1;30mINFO    \u001b[0m \u001b[34mrasa.nlu.featurizers.sparse_featurizer.count_vectors_featurizer\u001b[0m  - 328 vocabulary slots consumed out of 1328 slots configured for text attribute.\n",
      "2021-04-29 12:01:48 \u001b[1;30mINFO    \u001b[0m \u001b[34mrasa.nlu.model\u001b[0m  - Finished training component.\n",
      "2021-04-29 12:01:48 \u001b[1;30mINFO    \u001b[0m \u001b[34mrasa.nlu.model\u001b[0m  - Starting to train component CountVectorsFeaturizer\n",
      "2021-04-29 12:01:48 \u001b[1;30mINFO    \u001b[0m \u001b[34mrasa.nlu.featurizers.sparse_featurizer.count_vectors_featurizer\u001b[0m  - 2347 vocabulary slots consumed out of 3520 slots configured for text attribute.\n",
      "2021-04-29 12:01:48 \u001b[1;30mINFO    \u001b[0m \u001b[34mrasa.nlu.model\u001b[0m  - Finished training component.\n",
      "2021-04-29 12:01:48 \u001b[1;30mINFO    \u001b[0m \u001b[34mrasa.nlu.model\u001b[0m  - Starting to train component DIETClassifier\n",
      "Epochs:  18%|▏| 18/100 [00:25<01:03,  1.29it/s, t_loss=3.57, i_acc=0.995, e_f1=0Killed\n"
     ]
    }
   ],
   "source": [
    "!rasa train nlu --config $CONFIG_PATH --nlu $DATA_PATH"
   ]
  },
  {
   "cell_type": "markdown",
   "metadata": {},
   "source": [
    "O comando acima gerou um modelo apenas de **NLU**, este modelo pode ser achado na seguinte pasta:"
   ]
  },
  {
   "cell_type": "markdown",
   "metadata": {},
   "source": [
    "`modules/notebooks/intents/models/`"
   ]
  },
  {
   "cell_type": "code",
   "execution_count": 5,
   "metadata": {},
   "outputs": [
    {
     "name": "stdout",
     "output_type": "stream",
     "text": [
      "ls: cannot access 'models/': No such file or directory\r\n"
     ]
    }
   ],
   "source": [
    "!ls models/"
   ]
  },
  {
   "cell_type": "markdown",
   "metadata": {},
   "source": [
    "### Métodos de avaliação do chatbot\n",
    "\n",
    "* O Rasa fornece vários métodos de avaliação e validação das `intents`, para verificar como utiliza-los, cada método fornece um log, imagem, gráfico ou arquivo com dados relevantes para interpretação do chatbot."
   ]
  },
  {
   "cell_type": "markdown",
   "metadata": {},
   "source": [
    "* O comando `rasa test nlu` é a base para a avaliação do chatbot.\n",
    "\n",
    "* Na célula abaixo a flag `-h` foi utilizada para mostrar as funções e a forma de uso de cada uma delas, mude seus valores e flags para ter as informações desejadas na sua análise.\n",
    "\n",
    "* Atualmente o Rasa possui 2 modos, `evaluation` e `crossvalidation` que tem seções decicadas a eles neste jupyter notebook."
   ]
  },
  {
   "cell_type": "code",
   "execution_count": 4,
   "metadata": {
    "scrolled": true
   },
   "outputs": [
    {
     "name": "stdout",
     "output_type": "stream",
     "text": [
      "usage: rasa test nlu [-h] [-v] [-vv] [--quiet] [-m MODEL] [-u NLU] [--out OUT]\r\n",
      "                     [--successes] [--no-errors] [--histogram HISTOGRAM]\r\n",
      "                     [--confmat CONFMAT] [-c CONFIG [CONFIG ...]]\r\n",
      "                     [--cross-validation] [-f FOLDS] [-r RUNS]\r\n",
      "                     [-p PERCENTAGES [PERCENTAGES ...]]\r\n",
      "\r\n",
      "optional arguments:\r\n",
      "  -h, --help            show this help message and exit\r\n",
      "  -m MODEL, --model MODEL\r\n",
      "                        Path to a trained Rasa model. If a directory is\r\n",
      "                        specified, it will use the latest model in this\r\n",
      "                        directory. (default: models)\r\n",
      "  -u NLU, --nlu NLU     File or folder containing your NLU data. (default:\r\n",
      "                        data)\r\n",
      "  --out OUT             Output path for any files created during the\r\n",
      "                        evaluation. (default: results)\r\n",
      "  --successes           If set successful predictions (intent and entities)\r\n",
      "                        will be written to a file. (default: False)\r\n",
      "  --no-errors           If set incorrect predictions (intent and entities)\r\n",
      "                        will NOT be written to a file. (default: False)\r\n",
      "  --histogram HISTOGRAM\r\n",
      "                        Output path for the confidence histogram. (default:\r\n",
      "                        hist.png)\r\n",
      "  --confmat CONFMAT     Output path for the confusion matrix plot. (default:\r\n",
      "                        confmat.png)\r\n",
      "  -c CONFIG [CONFIG ...], --config CONFIG [CONFIG ...]\r\n",
      "                        Model configuration file. If a single file is passed\r\n",
      "                        and cross validation mode is chosen, cross-validation\r\n",
      "                        is performed, if multiple configs or a folder of\r\n",
      "                        configs are passed, models will be trained and\r\n",
      "                        compared directly. (default: None)\r\n",
      "\r\n",
      "Python Logging Options:\r\n",
      "  -v, --verbose         Be verbose. Sets logging level to INFO. (default:\r\n",
      "                        None)\r\n",
      "  -vv, --debug          Print lots of debugging statements. Sets logging level\r\n",
      "                        to DEBUG. (default: None)\r\n",
      "  --quiet               Be quiet! Sets logging level to WARNING. (default:\r\n",
      "                        None)\r\n",
      "\r\n",
      "Cross Validation:\r\n",
      "  --cross-validation    Switch on cross validation mode. Any provided model\r\n",
      "                        will be ignored. (default: False)\r\n",
      "  -f FOLDS, --folds FOLDS\r\n",
      "                        Number of cross validation folds (cross validation\r\n",
      "                        only). (default: 10)\r\n",
      "\r\n",
      "Comparison Mode:\r\n",
      "  -r RUNS, --runs RUNS  Number of comparison runs to make. (default: 3)\r\n",
      "  -p PERCENTAGES [PERCENTAGES ...], --percentages PERCENTAGES [PERCENTAGES ...]\r\n",
      "                        Percentages of training data to exclude during\r\n",
      "                        comparison. (default: [0, 25, 50, 75])\r\n"
     ]
    }
   ],
   "source": [
    "!rasa test nlu -h"
   ]
  },
  {
   "cell_type": "markdown",
   "metadata": {},
   "source": [
    "### Evaluation"
   ]
  },
  {
   "cell_type": "markdown",
   "metadata": {},
   "source": [
    "* O comando abaixo gera informações relevates para a validação das `intents` são elas:\n",
    "    * Matriz de confusão\n",
    "    * Histograma\n",
    "    * Erros de intents\n",
    "\n",
    "Essas informações e os demais arquivos podem ser encontrados na pasta `results`."
   ]
  },
  {
   "cell_type": "code",
   "execution_count": 5,
   "metadata": {},
   "outputs": [
    {
     "name": "stdout",
     "output_type": "stream",
     "text": [
      "CRFEntityExtractor_errors.json\tconfmat.png  intent_errors.json\r\n",
      "CRFEntityExtractor_report.json\thist.png     intent_report.json\r\n"
     ]
    }
   ],
   "source": [
    "!ls results"
   ]
  },
  {
   "cell_type": "code",
   "execution_count": 6,
   "metadata": {
    "scrolled": true
   },
   "outputs": [
    {
     "name": "stdout",
     "output_type": "stream",
     "text": [
      "2019-10-23 01:05:05 \u001b[1;30mINFO    \u001b[0m \u001b[34mabsl\u001b[0m  - Entry Point [tensor2tensor.envs.tic_tac_toe_env:TicTacToeEnv] registered with id [T2TEnv-TicTacToeEnv-v0]\n",
      "2019-10-23 01:05:06 \u001b[1;30mINFO    \u001b[0m \u001b[34mrasa.nlu.test\u001b[0m  - Running model for predictions:\n",
      "100%|████████████████████████████████████████| 588/588 [00:00<00:00, 730.43it/s]\n",
      "2019-10-23 01:05:07 \u001b[1;30mINFO    \u001b[0m \u001b[34mrasa.nlu.test\u001b[0m  - Intent evaluation results:\n",
      "2019-10-23 01:05:07 \u001b[1;30mINFO    \u001b[0m \u001b[34mrasa.nlu.test\u001b[0m  - Intent Evaluation: Only considering those 588 examples that have a defined intent out of 588 examples\n",
      "2019-10-23 01:05:07 \u001b[1;30mINFO    \u001b[0m \u001b[34mrasa.nlu.test\u001b[0m  - Classification report saved to results/intent_report.json.\n",
      "2019-10-23 01:05:07 \u001b[1;30mINFO    \u001b[0m \u001b[34mrasa.nlu.test\u001b[0m  - Incorrect intent predictions saved to results/intent_errors.json.\n",
      "2019-10-23 01:05:07 \u001b[1;30mINFO    \u001b[0m \u001b[34mrasa.nlu.test\u001b[0m  - Confusion matrix, without normalization: \n",
      "[[ 0  0  0 ...  0  0  0]\n",
      " [ 0  6  0 ...  0  0  0]\n",
      " [ 0  0  1 ...  0  0  0]\n",
      " ...\n",
      " [ 0  0  0 ... 14  0  0]\n",
      " [ 0  0  0 ...  0 18  0]\n",
      " [ 0  0  0 ...  0  0 23]]\n",
      "2019-10-23 01:05:13 \u001b[1;30mINFO    \u001b[0m \u001b[34mrasa.nlu.test\u001b[0m  - Entity evaluation results:\n",
      "2019-10-23 01:05:13 \u001b[1;30mINFO    \u001b[0m \u001b[34mrasa.nlu.test\u001b[0m  - Evaluation for entity extractor: CRFEntityExtractor \n",
      "2019-10-23 01:05:13 \u001b[1;30mINFO    \u001b[0m \u001b[34mrasa.nlu.test\u001b[0m  - Classification report for 'CRFEntityExtractor' saved to 'results/CRFEntityExtractor_report.json'.\n",
      "2019-10-23 01:05:13 \u001b[1;30mINFO    \u001b[0m \u001b[34mrasa.nlu.test\u001b[0m  - Incorrect entity predictions saved to results/CRFEntityExtractor_errors.json.\n"
     ]
    }
   ],
   "source": [
    "!rm -f resutls/*erros.json\n",
    "!rasa test nlu --nlu $DATA_PATH --model ./models/"
   ]
  },
  {
   "cell_type": "markdown",
   "metadata": {},
   "source": [
    "#### Matriz de Confusão\n",
    "* A matriz de confusão mostra a correlação entre as intents.\n",
    "* A diagonal principal tem forte correlação pois mostra a relação de uma intent **com ela mesma**\n",
    "* O ideal é que não haja **nenhum valor** diferente de **0 fora da diagonal principal**."
   ]
  },
  {
   "cell_type": "code",
   "execution_count": 7,
   "metadata": {
    "scrolled": false
   },
   "outputs": [
    {
     "data": {
      "text/html": [
       "\n",
       "        <iframe\n",
       "            width=\"900\"\n",
       "            height=\"700\"\n",
       "            src=\"./results/confmat.png\"\n",
       "            frameborder=\"0\"\n",
       "            allowfullscreen\n",
       "        ></iframe>\n",
       "        "
      ],
      "text/plain": [
       "<IPython.lib.display.IFrame at 0x7fc1fb964e48>"
      ]
     },
     "execution_count": 7,
     "metadata": {},
     "output_type": "execute_result"
    }
   ],
   "source": [
    "IFrame(src='./results/confmat.png', width=900, height=700)"
   ]
  },
  {
   "cell_type": "markdown",
   "metadata": {},
   "source": [
    "#### Erros\n",
    "* O arquivo `erros,json` mostra os erros encontrados. Este arquivo lista os mesmos erros mostrados na **matriz de confusão**, então caso ela fique muito grande, não se preocupe, pois você pode apenas procurar os erros no arquivo gerado.\n",
    "* Os erros mostrados são textos repetidos nos exemplos de diferrentes `intents`.\n",
    "* Caso o arquivo não seja gerado significa que não foram encontrados erros."
   ]
  },
  {
   "cell_type": "code",
   "execution_count": 8,
   "metadata": {},
   "outputs": [
    {
     "name": "stdout",
     "output_type": "stream",
     "text": [
      "CRFEntityExtractor_errors.json\tconfmat.png  intent_errors.json\r\n",
      "CRFEntityExtractor_report.json\thist.png     intent_report.json\r\n"
     ]
    }
   ],
   "source": [
    "!ls results/"
   ]
  },
  {
   "cell_type": "code",
   "execution_count": 9,
   "metadata": {
    "scrolled": true
   },
   "outputs": [
    {
     "name": "stdout",
     "output_type": "stream",
     "text": [
      "[\r\n",
      "  {\r\n",
      "    \"text\": \"e o c#\",\r\n",
      "    \"intent\": \"linguagens\",\r\n",
      "    \"intent_prediction\": {\r\n",
      "      \"name\": \"\",\r\n",
      "      \"confidence\": 0.0\r\n",
      "    }\r\n",
      "  }\r\n",
      "]"
     ]
    }
   ],
   "source": [
    "!cat results/intent_errors.json"
   ]
  },
  {
   "cell_type": "code",
   "execution_count": 10,
   "metadata": {},
   "outputs": [
    {
     "name": "stdout",
     "output_type": "stream",
     "text": [
      "[\r\n",
      "  {\r\n",
      "    \"text\": \"qual é o seu deus?\",\r\n",
      "    \"entities\": [],\r\n",
      "    \"predicted_entities\": [\r\n",
      "      {\r\n",
      "        \"start\": 13,\r\n",
      "        \"end\": 17,\r\n",
      "        \"value\": \"deus\",\r\n",
      "        \"entity\": \"religiao\",\r\n",
      "        \"confidence\": 0.474498353384622,\r\n",
      "        \"extractor\": \"CRFEntityExtractor\"\r\n",
      "      }\r\n",
      "    ]\r\n",
      "  },\r\n",
      "  {\r\n",
      "    \"text\": \"concelhos do yoda\",\r\n",
      "    \"entities\": [\r\n",
      "      {\r\n",
      "        \"start\": 13,\r\n",
      "        \"end\": 17,\r\n",
      "        \"value\": \"yoda\",\r\n",
      "        \"entity\": \"starwars\"\r\n",
      "      }\r\n",
      "    ],\r\n",
      "    \"predicted_entities\": []\r\n",
      "  },\r\n",
      "  {\r\n",
      "    \"text\": \"guerra nas estrelas\",\r\n",
      "    \"entities\": [\r\n",
      "      {\r\n",
      "        \"start\": 0,\r\n",
      "        \"end\": 19,\r\n",
      "        \"value\": \"guerra nas estrelas\",\r\n",
      "        \"entity\": \"starwars\"\r\n",
      "      }\r\n",
      "    ],\r\n",
      "    \"predicted_entities\": []\r\n",
      "  },\r\n",
      "  {\r\n",
      "    \"text\": \"como você é?\",\r\n",
      "    \"entities\": [\r\n",
      "      {\r\n",
      "        \"start\": 0,\r\n",
      "        \"end\": 11,\r\n",
      "        \"value\": \"como você é\",\r\n",
      "        \"entity\": \"how\"\r\n",
      "      }\r\n",
      "    ],\r\n",
      "    \"predicted_entities\": []\r\n",
      "  },\r\n",
      "  {\r\n",
      "    \"text\": \"me conta uma piada\",\r\n",
      "    \"entities\": [],\r\n",
      "    \"predicted_entities\": [\r\n",
      "      {\r\n",
      "        \"start\": 13,\r\n",
      "        \"end\": 18,\r\n",
      "        \"value\": \"piada\",\r\n",
      "        \"entity\": \"piada\",\r\n",
      "        \"confidence\": 0.6223906350689047,\r\n",
      "        \"extractor\": \"CRFEntityExtractor\"\r\n",
      "      }\r\n",
      "    ]\r\n",
      "  },\r\n",
      "  {\r\n",
      "    \"text\": \"me fala uma piada\",\r\n",
      "    \"entities\": [],\r\n",
      "    \"predicted_entities\": [\r\n",
      "      {\r\n",
      "        \"start\": 12,\r\n",
      "        \"end\": 17,\r\n",
      "        \"value\": \"piada\",\r\n",
      "        \"entity\": \"piada\",\r\n",
      "        \"confidence\": 0.6187680883976037,\r\n",
      "        \"extractor\": \"CRFEntityExtractor\"\r\n",
      "      }\r\n",
      "    ]\r\n",
      "  },\r\n",
      "  {\r\n",
      "    \"text\": \"voce e um software livre\",\r\n",
      "    \"entities\": [\r\n",
      "      {\r\n",
      "        \"start\": 10,\r\n",
      "        \"end\": 24,\r\n",
      "        \"value\": \"software livre\",\r\n",
      "        \"entity\": \"license\"\r\n",
      "      }\r\n",
      "    ],\r\n",
      "    \"predicted_entities\": []\r\n",
      "  },\r\n",
      "  {\r\n",
      "    \"text\": \"me indica uma playlist\",\r\n",
      "    \"entities\": [],\r\n",
      "    \"predicted_entities\": [\r\n",
      "      {\r\n",
      "        \"start\": 14,\r\n",
      "        \"end\": 22,\r\n",
      "        \"value\": \"playlist\",\r\n",
      "        \"entity\": \"playlist\",\r\n",
      "        \"confidence\": 0.8034555766584158,\r\n",
      "        \"extractor\": \"CRFEntityExtractor\"\r\n",
      "      }\r\n",
      "    ]\r\n",
      "  },\r\n",
      "  {\r\n",
      "    \"text\": \"onde você nasceu?\",\r\n",
      "    \"entities\": [\r\n",
      "      {\r\n",
      "        \"start\": 10,\r\n",
      "        \"end\": 16,\r\n",
      "        \"value\": \"nasceu\",\r\n",
      "        \"entity\": \"where\"\r\n",
      "      }\r\n",
      "    ],\r\n",
      "    \"predicted_entities\": []\r\n",
      "  },\r\n",
      "  {\r\n",
      "    \"text\": \"onde voce nasceu?\",\r\n",
      "    \"entities\": [\r\n",
      "      {\r\n",
      "        \"start\": 10,\r\n",
      "        \"end\": 16,\r\n",
      "        \"value\": \"nasceu\",\r\n",
      "        \"entity\": \"where\"\r\n",
      "      }\r\n",
      "    ],\r\n",
      "    \"predicted_entities\": []\r\n",
      "  },\r\n",
      "  {\r\n",
      "    \"text\": \"Você tem namorado?\",\r\n",
      "    \"entities\": [\r\n",
      "      {\r\n",
      "        \"start\": 9,\r\n",
      "        \"end\": 17,\r\n",
      "        \"value\": \"namorado\",\r\n",
      "        \"entity\": \"relationship\"\r\n",
      "      }\r\n",
      "    ],\r\n",
      "    \"predicted_entities\": []\r\n",
      "  },\r\n",
      "  {\r\n",
      "    \"text\": \"melhor filme\",\r\n",
      "    \"entities\": [],\r\n",
      "    \"predicted_entities\": [\r\n",
      "      {\r\n",
      "        \"start\": 7,\r\n",
      "        \"end\": 12,\r\n",
      "        \"value\": \"filme\",\r\n",
      "        \"entity\": \"filme\",\r\n",
      "        \"confidence\": 0.5262284272303718,\r\n",
      "        \"extractor\": \"CRFEntityExtractor\"\r\n",
      "      }\r\n",
      "    ]\r\n",
      "  },\r\n",
      "  {\r\n",
      "    \"text\": \"Estou muito triste\",\r\n",
      "    \"entities\": [\r\n",
      "      {\r\n",
      "        \"start\": 12,\r\n",
      "        \"end\": 18,\r\n",
      "        \"value\": \"triste\",\r\n",
      "        \"entity\": \"triste\"\r\n",
      "      }\r\n",
      "    ],\r\n",
      "    \"predicted_entities\": []\r\n",
      "  },\r\n",
      "  {\r\n",
      "    \"text\": \"O que você gosta de fazer?\",\r\n",
      "    \"entities\": [\r\n",
      "      {\r\n",
      "        \"start\": 11,\r\n",
      "        \"end\": 25,\r\n",
      "        \"value\": \"gosta de fazer\",\r\n",
      "        \"entity\": \"hobby\"\r\n",
      "      }\r\n",
      "    ],\r\n",
      "    \"predicted_entities\": []\r\n",
      "  },\r\n",
      "  {\r\n",
      "    \"text\": \"Me fala o que você gosta de fazer?\",\r\n",
      "    \"entities\": [\r\n",
      "      {\r\n",
      "        \"start\": 19,\r\n",
      "        \"end\": 33,\r\n",
      "        \"value\": \"gosta de fazer\",\r\n",
      "        \"entity\": \"hobby\"\r\n",
      "      }\r\n",
      "    ],\r\n",
      "    \"predicted_entities\": []\r\n",
      "  },\r\n",
      "  {\r\n",
      "    \"text\": \"conta pra mim uma historinha\",\r\n",
      "    \"entities\": [\r\n",
      "      {\r\n",
      "        \"start\": 18,\r\n",
      "        \"end\": 28,\r\n",
      "        \"value\": \"historinha\",\r\n",
      "        \"entity\": \"historia\"\r\n",
      "      }\r\n",
      "    ],\r\n",
      "    \"predicted_entities\": []\r\n",
      "  }\r\n",
      "]"
     ]
    }
   ],
   "source": [
    "!cat results/CRFEntityExtractor_errors.json"
   ]
  },
  {
   "cell_type": "markdown",
   "metadata": {},
   "source": [
    "#### Histograma\n",
    "\n",
    "* O histograma contém a distribuição da predições das `intents`"
   ]
  },
  {
   "cell_type": "code",
   "execution_count": 1,
   "metadata": {
    "scrolled": false
   },
   "outputs": [
    {
     "ename": "NameError",
     "evalue": "name 'IFrame' is not defined",
     "output_type": "error",
     "traceback": [
      "\u001b[0;31m---------------------------------------------------------------------------\u001b[0m",
      "\u001b[0;31mNameError\u001b[0m                                 Traceback (most recent call last)",
      "\u001b[0;32m<ipython-input-1-453cc2285d9b>\u001b[0m in \u001b[0;36m<module>\u001b[0;34m\u001b[0m\n\u001b[0;32m----> 1\u001b[0;31m \u001b[0mIFrame\u001b[0m\u001b[0;34m(\u001b[0m\u001b[0msrc\u001b[0m\u001b[0;34m=\u001b[0m\u001b[0;34m'./results/hist.png'\u001b[0m\u001b[0;34m,\u001b[0m \u001b[0mwidth\u001b[0m\u001b[0;34m=\u001b[0m\u001b[0;36m900\u001b[0m\u001b[0;34m,\u001b[0m \u001b[0mheight\u001b[0m\u001b[0;34m=\u001b[0m\u001b[0;36m700\u001b[0m\u001b[0;34m)\u001b[0m\u001b[0;34m\u001b[0m\u001b[0;34m\u001b[0m\u001b[0m\n\u001b[0m",
      "\u001b[0;31mNameError\u001b[0m: name 'IFrame' is not defined"
     ]
    }
   ],
   "source": [
    "IFrame(src='./results/hist.png', width=900, height=700)"
   ]
  },
  {
   "cell_type": "markdown",
   "metadata": {},
   "source": [
    "## Referências:\n",
    "\n",
    "O Rasa está em constante evolução, alguns links úteis para a construção deste jupyter-notebook e para a análise das `intents` são:\n",
    "\n",
    "* [Evaluation](https://rasa.com/docs/nlu/evaluation/)"
   ]
  }
 ],
 "metadata": {
  "colab": {
   "collapsed_sections": [
    "y4miuS-TqYcn",
    "BBF6Nqi9scQE",
    "Fs3nOUzBsqrG",
    "5MnGuFRpzzBh"
   ],
   "default_view": {},
   "name": "Building a Simple Bot with Rasa Stack - Tutorial",
   "provenance": [
    {
     "file_id": "1GutDkDXmfU-nRzNH7Pxxx8YpdvLUw9LO",
     "timestamp": 1521183725373
    }
   ],
   "toc_visible": true,
   "version": "0.3.2",
   "views": {}
  },
  "kernelspec": {
   "display_name": "Python 3",
   "language": "python",
   "name": "python3"
  },
  "language_info": {
   "codemirror_mode": {
    "name": "ipython",
    "version": 3
   },
   "file_extension": ".py",
   "mimetype": "text/x-python",
   "name": "python",
   "nbconvert_exporter": "python",
   "pygments_lexer": "ipython3",
   "version": "3.7.10"
  }
 },
 "nbformat": 4,
 "nbformat_minor": 1
}
